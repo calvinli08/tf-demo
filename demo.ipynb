{
  "cells": [
    {
      "cell_type": "markdown",
      "metadata": {
        "id": "view-in-github",
        "colab_type": "text"
      },
      "source": [
        "<a href=\"https://colab.research.google.com/github/calvinli08/tf-demo/blob/main/demo.ipynb\" target=\"_parent\"><img src=\"https://colab.research.google.com/assets/colab-badge.svg\" alt=\"Open In Colab\"/></a>"
      ]
    },
    {
      "cell_type": "code",
      "execution_count": null,
      "metadata": {
        "id": "Uay0jx7Jr1_V"
      },
      "outputs": [],
      "source": [
        "import tensorflow as tf\n",
        "from tensorflow import keras\n",
        "from keras import regularizers\n",
        "from keras import layers\n",
        "\n",
        "import tensorflow_datasets as tfds\n",
        "\n",
        "import numpy as np\n",
        "import matplotlib.pyplot as plt\n",
        "import os\n",
        "import subprocess\n",
        "\n",
        "#get dataset and format\n",
        "(train_ds, validate_ds, test_ds), ds_info = tfds.load('HorsesOrHumans', split=['train[:90%]', 'train[90%:100%]', 'test'], as_supervised=True, shuffle_files=True, with_info=True, batch_size=32)\n",
        "\n",
        "#normalize data so the model trains more efficiently\n",
        "def normalize(image, label):\n",
        "  image = tf.cast(image/255, tf.float32)\n",
        "  return image, label\n",
        "\n",
        "train_ds = train_ds.map(normalize)\n",
        "validate_ds = validate_ds.map(normalize)\n",
        "test_ds = test_ds.map(normalize)"
      ]
    },
    {
      "cell_type": "code",
      "source": [
        "#prepare model layers\n",
        "model = keras.Sequential([\n",
        "    #randomize the training data to increase data diversity\n",
        "    layers.RandomFlip(\"horizontal_and_vertical\"),\n",
        "\n",
        "    #use convolution to highlight the parts of the image most useful for identification\n",
        "    #kernel regularizer should help prevent overfitting\n",
        "    layers.Conv2D(16, (3,3), activation='relu', input_shape=(300, 300, 3), kernel_regularizer=regularizers.l2(0.01)),\n",
        "\n",
        "    #cut down on excess image info returned from the convolution layer and keep just the essentials\n",
        "    layers.MaxPooling2D(2,2),\n",
        "\n",
        "    #second convolution layer\n",
        "    layers.Conv2D(32, (3,3), activation='relu', kernel_regularizer=regularizers.l2(0.01)),\n",
        "\n",
        "    #cut down on excess image info returned from the convolution layer and keep just the essentials\n",
        "    layers.MaxPooling2D(2,2),\n",
        "\n",
        "    #third convolution layer\n",
        "    layers.Conv2D(64, (3,3), activation='relu', kernel_regularizer=regularizers.l2(0.01)),\n",
        "\n",
        "    #cut down on excess image info returned from the convolution layer and keep just the essentials\n",
        "    layers.MaxPooling2D(2,2),\n",
        "\n",
        "    #prepare to feed to dense layer\n",
        "    layers.Flatten(),\n",
        "\n",
        "    #classify using dense layers\n",
        "    layers.Dense(64, activation='relu', kernel_regularizer=regularizers.l2(0.01)),\n",
        "\n",
        "    layers.Dropout(0.5),\n",
        "\n",
        "    layers.Dense(2)\n",
        "])\n",
        "\n",
        "#set model optimizer and loss equation\n",
        "model.compile(\n",
        "    optimizer='adam', #Using adam since it's quickest and most accurate for basic data sets\n",
        "    loss=tf.keras.losses.SparseCategoricalCrossentropy(from_logits=True), #Since we have two categories, human and horse, this should be most effective\n",
        "    metrics=[\n",
        "      'accuracy'\n",
        "    ]\n",
        ")\n",
        "\n",
        "model.build((None,300,300,3))\n",
        "\n",
        "model.summary()"
      ],
      "metadata": {
        "colab": {
          "base_uri": "https://localhost:8080/"
        },
        "id": "EM3CrQDjY0oj",
        "outputId": "b4730882-b95d-4654-f6f0-b5c58413d421"
      },
      "execution_count": null,
      "outputs": [
        {
          "output_type": "stream",
          "name": "stdout",
          "text": [
            "Model: \"sequential_19\"\n",
            "_________________________________________________________________\n",
            " Layer (type)                Output Shape              Param #   \n",
            "=================================================================\n",
            " random_flip_15 (RandomFlip  (None, 300, 300, 3)       0         \n",
            " )                                                               \n",
            "                                                                 \n",
            " conv2d_33 (Conv2D)          (None, 298, 298, 16)      448       \n",
            "                                                                 \n",
            " max_pooling2d_33 (MaxPooli  (None, 149, 149, 16)      0         \n",
            " ng2D)                                                           \n",
            "                                                                 \n",
            " conv2d_34 (Conv2D)          (None, 147, 147, 32)      4640      \n",
            "                                                                 \n",
            " max_pooling2d_34 (MaxPooli  (None, 73, 73, 32)        0         \n",
            " ng2D)                                                           \n",
            "                                                                 \n",
            " conv2d_35 (Conv2D)          (None, 71, 71, 64)        18496     \n",
            "                                                                 \n",
            " max_pooling2d_35 (MaxPooli  (None, 35, 35, 64)        0         \n",
            " ng2D)                                                           \n",
            "                                                                 \n",
            " flatten_15 (Flatten)        (None, 78400)             0         \n",
            "                                                                 \n",
            " dense_38 (Dense)            (None, 64)                5017664   \n",
            "                                                                 \n",
            " dropout_11 (Dropout)        (None, 64)                0         \n",
            "                                                                 \n",
            " dense_39 (Dense)            (None, 2)                 130       \n",
            "                                                                 \n",
            "=================================================================\n",
            "Total params: 5041378 (19.23 MB)\n",
            "Trainable params: 5041378 (19.23 MB)\n",
            "Non-trainable params: 0 (0.00 Byte)\n",
            "_________________________________________________________________\n"
          ]
        }
      ]
    },
    {
      "cell_type": "code",
      "source": [
        "#train and test (using just 5 epochs to save resources as it's just a demo)\n",
        "checkpoint_filepath = 'quick_demo.cpkt'\n",
        "save_cp_callback = keras.callbacks.ModelCheckpoint(filepath=checkpoint_filepath, save_weights_only=True, verbose=1)\n",
        "\n",
        "early_stopping_callback = keras.callbacks.EarlyStopping(monitor='val_accuracy', patience=200)\n",
        "\n",
        "model.fit(\n",
        "    train_ds,\n",
        "    epochs=5,\n",
        "    validation_data=validate_ds,\n",
        "    batch_size=32,\n",
        "    callbacks=[\n",
        "        save_cp_callback,\n",
        "        early_stopping_callback\n",
        "    ]\n",
        ")\n",
        "\n",
        "loss, acc = model.evaluate(test_ds, verbose=2)\n",
        "\n",
        "print(\"\\nTest results - Loss:\", \"{:.2f}\".format(loss), \"Accuracy:\", \"{:.2f}\".format(acc))"
      ],
      "metadata": {
        "id": "EVOEc7t3M6VX",
        "colab": {
          "base_uri": "https://localhost:8080/"
        },
        "outputId": "0332fa92-59ab-4732-dbae-39f11276f05a"
      },
      "execution_count": null,
      "outputs": [
        {
          "output_type": "stream",
          "name": "stdout",
          "text": [
            "Epoch 1/5\n",
            "29/29 [==============================] - ETA: 0s - loss: 1.5066 - accuracy: 0.6732\n",
            "Epoch 1: saving model to quick_demo.cpkt\n",
            "29/29 [==============================] - 7s 185ms/step - loss: 1.5066 - accuracy: 0.6732 - val_loss: 0.8120 - val_accuracy: 0.9029\n",
            "Epoch 2/5\n",
            "29/29 [==============================] - ETA: 0s - loss: 0.7205 - accuracy: 0.9113\n",
            "Epoch 2: saving model to quick_demo.cpkt\n",
            "29/29 [==============================] - 4s 140ms/step - loss: 0.7205 - accuracy: 0.9113 - val_loss: 0.6390 - val_accuracy: 0.8835\n",
            "Epoch 3/5\n",
            "29/29 [==============================] - ETA: 0s - loss: 0.6049 - accuracy: 0.9253\n",
            "Epoch 3: saving model to quick_demo.cpkt\n",
            "29/29 [==============================] - 4s 137ms/step - loss: 0.6049 - accuracy: 0.9253 - val_loss: 0.5394 - val_accuracy: 0.9126\n",
            "Epoch 4/5\n",
            "29/29 [==============================] - ETA: 0s - loss: 0.5123 - accuracy: 0.9340\n",
            "Epoch 4: saving model to quick_demo.cpkt\n",
            "29/29 [==============================] - 5s 183ms/step - loss: 0.5123 - accuracy: 0.9340 - val_loss: 0.4626 - val_accuracy: 0.9515\n",
            "Epoch 5/5\n",
            "29/29 [==============================] - ETA: 0s - loss: 0.4477 - accuracy: 0.9394\n",
            "Epoch 5: saving model to quick_demo.cpkt\n",
            "29/29 [==============================] - 4s 144ms/step - loss: 0.4477 - accuracy: 0.9394 - val_loss: 0.4350 - val_accuracy: 0.9612\n",
            "8/8 - 0s - loss: 1.2102 - accuracy: 0.8359 - 327ms/epoch - 41ms/step\n",
            "\n",
            "Test results - Loss: 1.21 Accuracy: 0.84\n"
          ]
        }
      ]
    }
  ],
  "metadata": {
    "colab": {
      "provenance": [],
      "gpuType": "T4",
      "authorship_tag": "ABX9TyOrXCtxgQ3VtEz3elR8kSxe",
      "include_colab_link": true
    },
    "kernelspec": {
      "display_name": "Python 3",
      "name": "python3"
    },
    "language_info": {
      "name": "python"
    },
    "accelerator": "GPU"
  },
  "nbformat": 4,
  "nbformat_minor": 0
}